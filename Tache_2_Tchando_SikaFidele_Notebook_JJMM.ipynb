{
 "cells": [
  {
   "cell_type": "markdown",
   "id": "c4e062bf",
   "metadata": {},
   "source": [
    "**Tâche 2 : Exploration & Analyse**\n",
    "\n",
    "Objectifs\n",
    "\n",
    "Cette tâche vise à tester la capacité des candidats à transformer un dataset consolidé en un support d’analyse riche et pertinent, en combinant rigueur statistique, créativité analytique et préparation pour un usage décisionnel (Power BI).\n",
    "\n",
    "Les candidats devront démontrer leur maîtrise de l’analyse exploratoire, la détection d’anomalies, la création d’indicateurs dérivés, et la structuration de données prêtes pour un tableau de bord interactif.\n",
    "\n",
    "Missions\n",
    "\n",
    "- Explorer les données\n",
    "- Réaliser une analyse descriptive approfondie pour mettre en évidence:\n",
    "les tendances historiques (ex. évolution démographique, évolution du PIB, scolarisation),\n",
    "les dynamiques spatiales (variations entre régions, départements, communes).\n",
    "- Identifier et documenter des corrélations croisées\n",
    "- Détecter les anomalies et incohérences :\n",
    "- Créer de nouvelles variables et indicateurs\n",
    "- Construire des indicateurs avancés tels que :\n",
    "taux : croissance annuelle de la population\n",
    "ratios : population jeune.\n",
    "indices composites : indicateur de développement régional.\n",
    "Produire des agrégations temporelles et spatiales :\n",
    "agrégations par département ou région, normalisation par habitant.\n",
    "\n",
    "Livrables :\n",
    "\n",
    "Dataset enrichi avec variables calculées et mis à disposition sur un GIT ou Drive\n",
    "Notebook ou rapport intermédiaire d’analyse.\n",
    "Liste documentée des anomalies et choix méthodologiques."
   ]
  },
  {
   "cell_type": "code",
   "execution_count": 2,
   "id": "5c99e2fc",
   "metadata": {},
   "outputs": [],
   "source": [
    "import pandas as pd\n",
    "import matplotlib.pyplot as plt\n"
   ]
  },
  {
   "cell_type": "code",
   "execution_count": 3,
   "id": "4ef495e0",
   "metadata": {},
   "outputs": [
    {
     "data": {
      "text/html": [
       "<div>\n",
       "<style scoped>\n",
       "    .dataframe tbody tr th:only-of-type {\n",
       "        vertical-align: middle;\n",
       "    }\n",
       "\n",
       "    .dataframe tbody tr th {\n",
       "        vertical-align: top;\n",
       "    }\n",
       "\n",
       "    .dataframe thead th {\n",
       "        text-align: right;\n",
       "    }\n",
       "</style>\n",
       "<table border=\"1\" class=\"dataframe\">\n",
       "  <thead>\n",
       "    <tr style=\"text-align: right;\">\n",
       "      <th></th>\n",
       "      <th>Année</th>\n",
       "      <th>Population 1er Juin</th>\n",
       "      <th>Population Masculine 1er Juin</th>\n",
       "      <th>Population Féminine 1er Juin</th>\n",
       "      <th>Naissances</th>\n",
       "      <th>Décès</th>\n",
       "      <th>Espérance de vie à la naissance</th>\n",
       "      <th>Solde migratoire</th>\n",
       "      <th>Taux de migration net</th>\n",
       "      <th>PIB_prix_constant</th>\n",
       "      <th>Population 0-14</th>\n",
       "      <th>Population 15-59</th>\n",
       "      <th>Population 60+</th>\n",
       "    </tr>\n",
       "  </thead>\n",
       "  <tbody>\n",
       "    <tr>\n",
       "      <th>0</th>\n",
       "      <td>1962.0</td>\n",
       "      <td>2604.659</td>\n",
       "      <td>1236.778</td>\n",
       "      <td>1367.880</td>\n",
       "      <td>122.713</td>\n",
       "      <td>71.049</td>\n",
       "      <td>39.643</td>\n",
       "      <td>-4.844</td>\n",
       "      <td>-1.860</td>\n",
       "      <td>9.910000e+11</td>\n",
       "      <td>1039.7865</td>\n",
       "      <td>1337.6690</td>\n",
       "      <td>227.2030</td>\n",
       "    </tr>\n",
       "    <tr>\n",
       "      <th>1</th>\n",
       "      <td>1963.0</td>\n",
       "      <td>2652.908</td>\n",
       "      <td>1261.327</td>\n",
       "      <td>1391.581</td>\n",
       "      <td>125.726</td>\n",
       "      <td>71.212</td>\n",
       "      <td>40.081</td>\n",
       "      <td>-4.847</td>\n",
       "      <td>-1.827</td>\n",
       "      <td>1.110000e+12</td>\n",
       "      <td>1070.0615</td>\n",
       "      <td>1355.3845</td>\n",
       "      <td>227.4620</td>\n",
       "    </tr>\n",
       "    <tr>\n",
       "      <th>2</th>\n",
       "      <td>1964.0</td>\n",
       "      <td>2704.003</td>\n",
       "      <td>1287.274</td>\n",
       "      <td>1416.729</td>\n",
       "      <td>128.765</td>\n",
       "      <td>71.412</td>\n",
       "      <td>40.502</td>\n",
       "      <td>-4.839</td>\n",
       "      <td>-1.790</td>\n",
       "      <td>1.190000e+12</td>\n",
       "      <td>1102.3680</td>\n",
       "      <td>1373.6455</td>\n",
       "      <td>227.9895</td>\n",
       "    </tr>\n",
       "    <tr>\n",
       "      <th>3</th>\n",
       "      <td>1965.0</td>\n",
       "      <td>2757.936</td>\n",
       "      <td>1314.605</td>\n",
       "      <td>1443.331</td>\n",
       "      <td>131.635</td>\n",
       "      <td>71.482</td>\n",
       "      <td>40.971</td>\n",
       "      <td>-4.793</td>\n",
       "      <td>-1.738</td>\n",
       "      <td>1.250000e+12</td>\n",
       "      <td>1136.7295</td>\n",
       "      <td>1392.4375</td>\n",
       "      <td>228.7690</td>\n",
       "    </tr>\n",
       "    <tr>\n",
       "      <th>4</th>\n",
       "      <td>1966.0</td>\n",
       "      <td>2814.317</td>\n",
       "      <td>1343.249</td>\n",
       "      <td>1471.068</td>\n",
       "      <td>134.106</td>\n",
       "      <td>71.937</td>\n",
       "      <td>41.274</td>\n",
       "      <td>-4.764</td>\n",
       "      <td>-1.693</td>\n",
       "      <td>1.300000e+12</td>\n",
       "      <td>1172.1035</td>\n",
       "      <td>1412.5000</td>\n",
       "      <td>229.7135</td>\n",
       "    </tr>\n",
       "  </tbody>\n",
       "</table>\n",
       "</div>"
      ],
      "text/plain": [
       "    Année  Population 1er Juin  Population Masculine 1er Juin  \\\n",
       "0  1962.0             2604.659                       1236.778   \n",
       "1  1963.0             2652.908                       1261.327   \n",
       "2  1964.0             2704.003                       1287.274   \n",
       "3  1965.0             2757.936                       1314.605   \n",
       "4  1966.0             2814.317                       1343.249   \n",
       "\n",
       "   Population Féminine 1er Juin  Naissances   Décès  \\\n",
       "0                      1367.880     122.713  71.049   \n",
       "1                      1391.581     125.726  71.212   \n",
       "2                      1416.729     128.765  71.412   \n",
       "3                      1443.331     131.635  71.482   \n",
       "4                      1471.068     134.106  71.937   \n",
       "\n",
       "   Espérance de vie à la naissance  Solde migratoire  Taux de migration net  \\\n",
       "0                           39.643            -4.844                 -1.860   \n",
       "1                           40.081            -4.847                 -1.827   \n",
       "2                           40.502            -4.839                 -1.790   \n",
       "3                           40.971            -4.793                 -1.738   \n",
       "4                           41.274            -4.764                 -1.693   \n",
       "\n",
       "   PIB_prix_constant  Population 0-14  Population 15-59  Population 60+  \n",
       "0       9.910000e+11        1039.7865         1337.6690        227.2030  \n",
       "1       1.110000e+12        1070.0615         1355.3845        227.4620  \n",
       "2       1.190000e+12        1102.3680         1373.6455        227.9895  \n",
       "3       1.250000e+12        1136.7295         1392.4375        228.7690  \n",
       "4       1.300000e+12        1172.1035         1412.5000        229.7135  "
      ]
     },
     "execution_count": 3,
     "metadata": {},
     "output_type": "execute_result"
    }
   ],
   "source": [
    "benin_df = pd.read_parquet(\"./Donnees_ben_pop.parquet\")\n",
    "benin_df.head()"
   ]
  },
  {
   "cell_type": "code",
   "execution_count": 13,
   "id": "95d8b0bd",
   "metadata": {},
   "outputs": [
    {
     "data": {
      "text/plain": [
       "Index(['Année', 'Population 1er Juin', 'Population Masculine 1er Juin',\n",
       "       'Population Féminine 1er Juin', 'Naissances', 'Décès',\n",
       "       'Espérance de vie à la naissance', 'Solde migratoire',\n",
       "       'Taux de migration net', 'PIB_prix_constant', 'Population 0-14',\n",
       "       'Population 15-59', 'Population 60+'],\n",
       "      dtype='object')"
      ]
     },
     "execution_count": 13,
     "metadata": {},
     "output_type": "execute_result"
    }
   ],
   "source": [
    "benin_df.columns"
   ]
  },
  {
   "cell_type": "markdown",
   "id": "7f7280fe",
   "metadata": {},
   "source": [
    "Descriptives statistiques"
   ]
  },
  {
   "cell_type": "code",
   "execution_count": 10,
   "id": "9901a016",
   "metadata": {},
   "outputs": [],
   "source": [
    "def nuage_de_points(x:str, y: str, donnees: pd.DataFrame):\n",
    "    if x in donnees.columns and y in donnees.columns:\n",
    "        plt.scatter(x=x, y=y, data=donnees)\n",
    "        plt.ylabel(y)\n",
    "        plt.xlabel(x)\n",
    "        plt.title(f\"Evolution de ({y}) selon ({x})\")\n",
    "        plt.show()\n",
    "    else:\n",
    "        print(f\"Une des ou toutes les colonnes ({x} et {y}) n'existent pas dans la base.\")"
   ]
  },
  {
   "cell_type": "code",
   "execution_count": null,
   "id": "22e377df",
   "metadata": {},
   "outputs": [
    {
     "data": {
      "image/png": "[encoded data removed]",
      "text/plain": [
       "<Figure size 640x480 with 1 Axes>"
      ]
     },
     "metadata": {},
     "output_type": "display_data"
    }
   ],
   "source": [
    "nuage_de_points(x = \"Année\",y=\"Population 1er Juin\", donnees=benin_df)"
   ]
  },
  {
   "cell_type": "code",
   "execution_count": null,
   "id": "df2e09f2",
   "metadata": {},
   "outputs": [
    {
     "data": {
      "image/png": "[encoded data removed]",
      "text/plain": [
       "<Figure size 640x480 with 1 Axes>"
      ]
     },
     "metadata": {},
     "output_type": "display_data"
    }
   ],
   "source": [
    "plt.scatter(x = \"Année\", y=\"Population 1er Juin\", data=benin_df)\n",
    "plt.scatter()\n",
    "plt.show()"
   ]
  }
 ],
 "metadata": {
  "kernelspec": {
   "display_name": "base",
   "language": "python",
   "name": "python3"
  },
  "language_info": {
   "codemirror_mode": {
    "name": "ipython",
    "version": 3
   },
   "file_extension": ".py",
   "mimetype": "text/x-python",
   "name": "python",
   "nbconvert_exporter": "python",
   "pygments_lexer": "ipython3",
   "version": "3.13.5"
  }
 },
 "nbformat": 4,
 "nbformat_minor": 5
}
